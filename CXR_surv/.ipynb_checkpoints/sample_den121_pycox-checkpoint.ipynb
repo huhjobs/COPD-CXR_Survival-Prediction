{
 "cells": [
  {
   "cell_type": "code",
   "execution_count": 1,
   "metadata": {},
   "outputs": [
    {
     "name": "stdout",
     "output_type": "stream",
     "text": [
      "Wed Oct 20 10:33:30 2021       \n",
      "+-----------------------------------------------------------------------------+\n",
      "| NVIDIA-SMI 450.119.03   Driver Version: 450.119.03   CUDA Version: 11.0     |\n",
      "|-------------------------------+----------------------+----------------------+\n",
      "| GPU  Name        Persistence-M| Bus-Id        Disp.A | Volatile Uncorr. ECC |\n",
      "| Fan  Temp  Perf  Pwr:Usage/Cap|         Memory-Usage | GPU-Util  Compute M. |\n",
      "|                               |                      |               MIG M. |\n",
      "|===============================+======================+======================|\n",
      "|   0  Quadro RTX 6000     Off  | 00000000:01:00.0 Off |                  Off |\n",
      "| 33%   42C    P8    23W / 260W |  16370MiB / 24220MiB |      0%      Default |\n",
      "|                               |                      |                  N/A |\n",
      "+-------------------------------+----------------------+----------------------+\n",
      "|   1  Quadro RTX 6000     Off  | 00000000:81:00.0 Off |                  Off |\n",
      "| 34%   41C    P8    23W / 260W |   7706MiB / 24220MiB |      0%      Default |\n",
      "|                               |                      |                  N/A |\n",
      "+-------------------------------+----------------------+----------------------+\n",
      "|   2  Quadro RTX 8000     Off  | 00000000:82:00.0 Off |                  Off |\n",
      "| 33%   36C    P8    27W / 260W |   6070MiB / 48601MiB |      0%      Default |\n",
      "|                               |                      |                  N/A |\n",
      "+-------------------------------+----------------------+----------------------+\n",
      "|   3  Quadro RTX 8000     Off  | 00000000:C1:00.0 Off |                  Off |\n",
      "| 33%   40C    P8    34W / 260W |   5060MiB / 48601MiB |      0%      Default |\n",
      "|                               |                      |                  N/A |\n",
      "+-------------------------------+----------------------+----------------------+\n",
      "                                                                               \n",
      "+-----------------------------------------------------------------------------+\n",
      "| Processes:                                                                  |\n",
      "|  GPU   GI   CI        PID   Type   Process name                  GPU Memory |\n",
      "|        ID   ID                                                   Usage      |\n",
      "|=============================================================================|\n",
      "+-----------------------------------------------------------------------------+\n"
     ]
    }
   ],
   "source": [
    "!nvidia-smi"
   ]
  },
  {
   "cell_type": "code",
   "execution_count": 6,
   "metadata": {
    "collapsed": true,
    "jupyter": {
     "outputs_hidden": true
    }
   },
   "outputs": [
    {
     "name": "stdout",
     "output_type": "stream",
     "text": [
      "Requirement already satisfied: torchtuples in /usr/local/lib/python3.6/dist-packages (0.2.0)\n",
      "Requirement already satisfied: matplotlib>=3.0.3 in /usr/local/lib/python3.6/dist-packages (from torchtuples) (3.3.3)\n",
      "Requirement already satisfied: pandas>=0.24.2 in /usr/local/lib/python3.6/dist-packages (from torchtuples) (1.1.5)\n",
      "Requirement already satisfied: numpy>=1.15.4 in /usr/local/lib/python3.6/dist-packages (from torchtuples) (1.18.5)\n",
      "Requirement already satisfied: kiwisolver>=1.0.1 in /usr/local/lib/python3.6/dist-packages (from matplotlib>=3.0.3->torchtuples) (1.3.1)\n",
      "Requirement already satisfied: cycler>=0.10 in /usr/local/lib/python3.6/dist-packages (from matplotlib>=3.0.3->torchtuples) (0.10.0)\n",
      "Requirement already satisfied: python-dateutil>=2.1 in /usr/local/lib/python3.6/dist-packages (from matplotlib>=3.0.3->torchtuples) (2.8.1)\n",
      "Requirement already satisfied: pillow>=6.2.0 in /usr/local/lib/python3.6/dist-packages (from matplotlib>=3.0.3->torchtuples) (8.0.1)\n",
      "Requirement already satisfied: pyparsing!=2.0.4,!=2.1.2,!=2.1.6,>=2.0.3 in /usr/local/lib/python3.6/dist-packages (from matplotlib>=3.0.3->torchtuples) (2.4.7)\n",
      "Requirement already satisfied: six in /usr/local/lib/python3.6/dist-packages (from cycler>=0.10->matplotlib>=3.0.3->torchtuples) (1.15.0)\n",
      "Requirement already satisfied: pytz>=2017.2 in /usr/local/lib/python3.6/dist-packages (from pandas>=0.24.2->torchtuples) (2020.4)\n",
      "\u001b[33mWARNING: Running pip as the 'root' user can result in broken permissions and conflicting behaviour with the system package manager. It is recommended to use a virtual environment instead: https://pip.pypa.io/warnings/venv\u001b[0m\n",
      "\u001b[33mWARNING: You are using pip version 21.1.3; however, version 21.2.4 is available.\n",
      "You should consider upgrading via the '/usr/bin/python3.6 -m pip install --upgrade pip' command.\u001b[0m\n",
      "Requirement already satisfied: pycox in /usr/local/lib/python3.6/dist-packages (0.2.2)\n",
      "Requirement already satisfied: py7zr>=0.11.3 in /usr/local/lib/python3.6/dist-packages (from pycox) (0.16.1)\n",
      "Requirement already satisfied: h5py>=2.9.0 in /usr/local/lib/python3.6/dist-packages (from pycox) (3.1.0)\n",
      "Requirement already satisfied: feather-format>=0.4.0 in /usr/local/lib/python3.6/dist-packages (from pycox) (0.4.1)\n",
      "Requirement already satisfied: requests>=2.22.0 in /usr/local/lib/python3.6/dist-packages (from pycox) (2.25.0)\n",
      "Requirement already satisfied: numba>=0.44 in /usr/local/lib/python3.6/dist-packages (from pycox) (0.53.1)\n",
      "Requirement already satisfied: torchtuples>=0.2.0 in /usr/local/lib/python3.6/dist-packages (from pycox) (0.2.0)\n",
      "Requirement already satisfied: scikit-learn>=0.21.2 in /usr/local/lib/python3.6/dist-packages (from pycox) (0.23.2)\n",
      "Requirement already satisfied: pyarrow>=0.4.0 in /usr/local/lib/python3.6/dist-packages (from feather-format>=0.4.0->pycox) (5.0.0)\n",
      "Requirement already satisfied: numpy>=1.12 in /usr/local/lib/python3.6/dist-packages (from h5py>=2.9.0->pycox) (1.18.5)\n",
      "Requirement already satisfied: cached-property in /usr/local/lib/python3.6/dist-packages (from h5py>=2.9.0->pycox) (1.5.2)\n",
      "Requirement already satisfied: llvmlite<0.37,>=0.36.0rc1 in /usr/local/lib/python3.6/dist-packages (from numba>=0.44->pycox) (0.36.0)\n",
      "Requirement already satisfied: setuptools in /usr/local/lib/python3.6/dist-packages (from numba>=0.44->pycox) (51.0.0)\n",
      "Requirement already satisfied: pyppmd>=0.14.0 in /usr/local/lib/python3.6/dist-packages (from py7zr>=0.11.3->pycox) (0.15.2)\n",
      "Requirement already satisfied: multivolumefile>=0.2.3 in /usr/local/lib/python3.6/dist-packages (from py7zr>=0.11.3->pycox) (0.2.3)\n",
      "Requirement already satisfied: brotli>=1.0.9 in /usr/local/lib/python3.6/dist-packages (from py7zr>=0.11.3->pycox) (1.0.9)\n",
      "Requirement already satisfied: texttable in /usr/local/lib/python3.6/dist-packages (from py7zr>=0.11.3->pycox) (1.6.4)\n",
      "Requirement already satisfied: pyzstd<0.15.0,>=0.14.4 in /usr/local/lib/python3.6/dist-packages (from py7zr>=0.11.3->pycox) (0.14.4)\n",
      "Requirement already satisfied: importlib-metadata in /usr/local/lib/python3.6/dist-packages (from py7zr>=0.11.3->pycox) (3.1.1)\n",
      "Requirement already satisfied: bcj-cffi<0.6.0,>=0.5.1 in /usr/local/lib/python3.6/dist-packages (from py7zr>=0.11.3->pycox) (0.5.1)\n",
      "Requirement already satisfied: pycryptodomex>=3.6.6 in /usr/local/lib/python3.6/dist-packages (from py7zr>=0.11.3->pycox) (3.10.1)\n",
      "Requirement already satisfied: cffi>=1.14.0 in /usr/local/lib/python3.6/dist-packages (from bcj-cffi<0.6.0,>=0.5.1->py7zr>=0.11.3->pycox) (1.14.4)\n",
      "Requirement already satisfied: pycparser in /usr/local/lib/python3.6/dist-packages (from cffi>=1.14.0->bcj-cffi<0.6.0,>=0.5.1->py7zr>=0.11.3->pycox) (2.20)\n",
      "Requirement already satisfied: chardet<4,>=3.0.2 in /usr/local/lib/python3.6/dist-packages (from requests>=2.22.0->pycox) (3.0.4)\n",
      "Requirement already satisfied: urllib3<1.27,>=1.21.1 in /usr/local/lib/python3.6/dist-packages (from requests>=2.22.0->pycox) (1.26.6)\n",
      "Requirement already satisfied: certifi>=2017.4.17 in /usr/local/lib/python3.6/dist-packages (from requests>=2.22.0->pycox) (2020.12.5)\n",
      "Requirement already satisfied: idna<3,>=2.5 in /usr/local/lib/python3.6/dist-packages (from requests>=2.22.0->pycox) (2.10)\n",
      "Requirement already satisfied: threadpoolctl>=2.0.0 in /usr/local/lib/python3.6/dist-packages (from scikit-learn>=0.21.2->pycox) (2.1.0)\n",
      "Requirement already satisfied: joblib>=0.11 in /usr/local/lib/python3.6/dist-packages (from scikit-learn>=0.21.2->pycox) (0.17.0)\n",
      "Requirement already satisfied: scipy>=0.19.1 in /usr/local/lib/python3.6/dist-packages (from scikit-learn>=0.21.2->pycox) (1.5.4)\n",
      "Requirement already satisfied: pandas>=0.24.2 in /usr/local/lib/python3.6/dist-packages (from torchtuples>=0.2.0->pycox) (1.1.5)\n",
      "Requirement already satisfied: matplotlib>=3.0.3 in /usr/local/lib/python3.6/dist-packages (from torchtuples>=0.2.0->pycox) (3.3.3)\n",
      "Requirement already satisfied: pillow>=6.2.0 in /usr/local/lib/python3.6/dist-packages (from matplotlib>=3.0.3->torchtuples>=0.2.0->pycox) (8.0.1)\n",
      "Requirement already satisfied: kiwisolver>=1.0.1 in /usr/local/lib/python3.6/dist-packages (from matplotlib>=3.0.3->torchtuples>=0.2.0->pycox) (1.3.1)\n",
      "Requirement already satisfied: cycler>=0.10 in /usr/local/lib/python3.6/dist-packages (from matplotlib>=3.0.3->torchtuples>=0.2.0->pycox) (0.10.0)\n",
      "Requirement already satisfied: pyparsing!=2.0.4,!=2.1.2,!=2.1.6,>=2.0.3 in /usr/local/lib/python3.6/dist-packages (from matplotlib>=3.0.3->torchtuples>=0.2.0->pycox) (2.4.7)\n",
      "Requirement already satisfied: python-dateutil>=2.1 in /usr/local/lib/python3.6/dist-packages (from matplotlib>=3.0.3->torchtuples>=0.2.0->pycox) (2.8.1)\n",
      "Requirement already satisfied: six in /usr/local/lib/python3.6/dist-packages (from cycler>=0.10->matplotlib>=3.0.3->torchtuples>=0.2.0->pycox) (1.15.0)\n",
      "Requirement already satisfied: pytz>=2017.2 in /usr/local/lib/python3.6/dist-packages (from pandas>=0.24.2->torchtuples>=0.2.0->pycox) (2020.4)\n",
      "Requirement already satisfied: zipp>=0.5 in /usr/local/lib/python3.6/dist-packages (from importlib-metadata->py7zr>=0.11.3->pycox) (3.4.0)\n",
      "\u001b[33mWARNING: Running pip as the 'root' user can result in broken permissions and conflicting behaviour with the system package manager. It is recommended to use a virtual environment instead: https://pip.pypa.io/warnings/venv\u001b[0m\n",
      "\u001b[33mWARNING: You are using pip version 21.1.3; however, version 21.2.4 is available.\n",
      "You should consider upgrading via the '/usr/bin/python3.6 -m pip install --upgrade pip' command.\u001b[0m\n",
      "Requirement already satisfied: timm in /usr/local/lib/python3.6/dist-packages (0.4.12)\n",
      "Requirement already satisfied: torch>=1.4 in /usr/local/lib/python3.6/dist-packages (from timm) (1.9.0+cu111)\n",
      "Requirement already satisfied: torchvision in /usr/local/lib/python3.6/dist-packages (from timm) (0.10.0+cu111)\n",
      "Requirement already satisfied: typing-extensions in /usr/local/lib/python3.6/dist-packages (from torch>=1.4->timm) (3.7.4.3)\n",
      "Requirement already satisfied: dataclasses in /usr/local/lib/python3.6/dist-packages (from torch>=1.4->timm) (0.8)\n",
      "Requirement already satisfied: numpy in /usr/local/lib/python3.6/dist-packages (from torchvision->timm) (1.18.5)\n",
      "Requirement already satisfied: pillow>=5.3.0 in /usr/local/lib/python3.6/dist-packages (from torchvision->timm) (8.0.1)\n",
      "\u001b[33mWARNING: Running pip as the 'root' user can result in broken permissions and conflicting behaviour with the system package manager. It is recommended to use a virtual environment instead: https://pip.pypa.io/warnings/venv\u001b[0m\n",
      "\u001b[33mWARNING: You are using pip version 21.1.3; however, version 21.2.4 is available.\n",
      "You should consider upgrading via the '/usr/bin/python3.6 -m pip install --upgrade pip' command.\u001b[0m\n",
      "Requirement already satisfied: albumentations in /usr/local/lib/python3.6/dist-packages (1.0.3)\n",
      "Requirement already satisfied: PyYAML in /usr/local/lib/python3.6/dist-packages (from albumentations) (5.3.1)\n",
      "Requirement already satisfied: numpy>=1.11.1 in /usr/local/lib/python3.6/dist-packages (from albumentations) (1.18.5)\n",
      "Requirement already satisfied: scikit-image>=0.16.1 in /usr/local/lib/python3.6/dist-packages (from albumentations) (0.17.2)\n",
      "Requirement already satisfied: scipy in /usr/local/lib/python3.6/dist-packages (from albumentations) (1.5.4)\n",
      "Requirement already satisfied: opencv-python-headless>=4.1.1 in /usr/local/lib/python3.6/dist-packages (from albumentations) (4.5.3.56)\n",
      "Requirement already satisfied: imageio>=2.3.0 in /usr/local/lib/python3.6/dist-packages (from scikit-image>=0.16.1->albumentations) (2.9.0)\n",
      "Requirement already satisfied: matplotlib!=3.0.0,>=2.0.0 in /usr/local/lib/python3.6/dist-packages (from scikit-image>=0.16.1->albumentations) (3.3.3)\n",
      "Requirement already satisfied: tifffile>=2019.7.26 in /usr/local/lib/python3.6/dist-packages (from scikit-image>=0.16.1->albumentations) (2020.9.3)\n",
      "Requirement already satisfied: networkx>=2.0 in /usr/local/lib/python3.6/dist-packages (from scikit-image>=0.16.1->albumentations) (2.5)\n",
      "Requirement already satisfied: PyWavelets>=1.1.1 in /usr/local/lib/python3.6/dist-packages (from scikit-image>=0.16.1->albumentations) (1.1.1)\n",
      "Requirement already satisfied: pillow!=7.1.0,!=7.1.1,>=4.3.0 in /usr/local/lib/python3.6/dist-packages (from scikit-image>=0.16.1->albumentations) (8.0.1)\n",
      "Requirement already satisfied: kiwisolver>=1.0.1 in /usr/local/lib/python3.6/dist-packages (from matplotlib!=3.0.0,>=2.0.0->scikit-image>=0.16.1->albumentations) (1.3.1)\n",
      "Requirement already satisfied: python-dateutil>=2.1 in /usr/local/lib/python3.6/dist-packages (from matplotlib!=3.0.0,>=2.0.0->scikit-image>=0.16.1->albumentations) (2.8.1)\n",
      "Requirement already satisfied: cycler>=0.10 in /usr/local/lib/python3.6/dist-packages (from matplotlib!=3.0.0,>=2.0.0->scikit-image>=0.16.1->albumentations) (0.10.0)\n",
      "Requirement already satisfied: pyparsing!=2.0.4,!=2.1.2,!=2.1.6,>=2.0.3 in /usr/local/lib/python3.6/dist-packages (from matplotlib!=3.0.0,>=2.0.0->scikit-image>=0.16.1->albumentations) (2.4.7)\n",
      "Requirement already satisfied: six in /usr/local/lib/python3.6/dist-packages (from cycler>=0.10->matplotlib!=3.0.0,>=2.0.0->scikit-image>=0.16.1->albumentations) (1.15.0)\n",
      "Requirement already satisfied: decorator>=4.3.0 in /usr/local/lib/python3.6/dist-packages (from networkx>=2.0->scikit-image>=0.16.1->albumentations) (4.4.2)\n",
      "\u001b[33mWARNING: Running pip as the 'root' user can result in broken permissions and conflicting behaviour with the system package manager. It is recommended to use a virtual environment instead: https://pip.pypa.io/warnings/venv\u001b[0m\n",
      "\u001b[33mWARNING: You are using pip version 21.1.3; however, version 21.2.4 is available.\n",
      "You should consider upgrading via the '/usr/bin/python3.6 -m pip install --upgrade pip' command.\u001b[0m\n"
     ]
    }
   ],
   "source": [
    "!pip install torchtuples\n",
    "!pip install pycox\n",
    "!pip install timm\n",
    "!pip install albumentations"
   ]
  },
  {
   "cell_type": "code",
   "execution_count": 2,
   "metadata": {},
   "outputs": [],
   "source": [
    "import torchtuples as tt\n",
    "from pycox.models import LogisticHazard, PMF, MTLR, BCESurv\n",
    "from pycox.utils import kaplan_meier\n",
    "from pycox.evaluation import EvalSurv"
   ]
  },
  {
   "cell_type": "code",
   "execution_count": 1,
   "metadata": {},
   "outputs": [],
   "source": [
    "import torch\n",
    "import torch.nn as nn\n",
    "import torch.optim as optim\n",
    "from torch.optim import lr_scheduler\n",
    "from torch.utils.data import Dataset, DataLoader \n",
    "\n",
    "import numpy as np\n",
    "import torchvision\n",
    "from torchvision import datasets, models, transforms\n",
    "import matplotlib.pyplot as plt\n",
    "import time\n",
    "import os\n",
    "# import pydicom as pdm\n",
    "\n",
    "import timm\n",
    "from pprint import pprint\n",
    "\n",
    "import copy\n",
    "from tqdm import tqdm\n",
    "import pickle\n",
    "from sklearn import metrics\n",
    "from glob import glob\n",
    "\n",
    "from load_data import load_data\n",
    "from PIL import Image\n",
    "\n",
    "device = torch.device(\"cuda:0\" if torch.cuda.is_available() else \"cpu\")"
   ]
  },
  {
   "cell_type": "code",
   "execution_count": 2,
   "metadata": {},
   "outputs": [],
   "source": [
    "import warnings\n",
    "warnings.filterwarnings('ignore')"
   ]
  },
  {
   "cell_type": "markdown",
   "metadata": {},
   "source": [
    "## Data Loading"
   ]
  },
  {
   "cell_type": "code",
   "execution_count": 3,
   "metadata": {},
   "outputs": [
    {
     "name": "stdout",
     "output_type": "stream",
     "text": [
      "Project:  copd_np\n",
      "aug mode: copd\n",
      "batchsize:  32\n",
      "CPU times: user 461 ms, sys: 13.5 ms, total: 475 ms\n",
      "Wall time: 474 ms\n"
     ]
    }
   ],
   "source": [
    "%%time\n",
    "batch_size = 32\n",
    "image_datasets, dataloaders, dataset_sizes, labtrans = load_data('copd_np', 'copd', batch_size, '/home/COPD/DATA/COPD_PNG', '/home/COPD/DATA/COPD_train_new.csv')"
   ]
  },
  {
   "cell_type": "code",
   "execution_count": 4,
   "metadata": {},
   "outputs": [
    {
     "data": {
      "text/plain": [
       "{'train': <load_data.COPDdatasetNP at 0x7f7ee5abb6d8>,\n",
       " 'val': <load_data.COPDdatasetNP at 0x7f7ee5abbcc0>,\n",
       " 'test': <load_data.COPDdatasetNP at 0x7f7ee5abbda0>}"
      ]
     },
     "execution_count": 4,
     "metadata": {},
     "output_type": "execute_result"
    }
   ],
   "source": [
    "image_datasets"
   ]
  },
  {
   "cell_type": "code",
   "execution_count": 5,
   "metadata": {},
   "outputs": [
    {
     "data": {
      "text/plain": [
       "(tensor([ 2,  4, 18,  ...,  1,  9,  9]),\n",
       " tensor([1., 1., 0.,  ..., 1., 0., 0.]))"
      ]
     },
     "execution_count": 5,
     "metadata": {},
     "output_type": "execute_result"
    }
   ],
   "source": [
    "image_datasets['train'].time,\\\n",
    "image_datasets['train'].event"
   ]
  },
  {
   "cell_type": "code",
   "execution_count": 6,
   "metadata": {},
   "outputs": [
    {
     "data": {
      "text/plain": [
       "{'train': 3474, 'val': 435, 'test': 434}"
      ]
     },
     "execution_count": 6,
     "metadata": {},
     "output_type": "execute_result"
    }
   ],
   "source": [
    "dataset_sizes"
   ]
  },
  {
   "cell_type": "code",
   "execution_count": 7,
   "metadata": {},
   "outputs": [],
   "source": [
    "images, labels = next(iter(dataloaders['train']))"
   ]
  },
  {
   "cell_type": "code",
   "execution_count": 8,
   "metadata": {},
   "outputs": [
    {
     "data": {
      "text/plain": [
       "<matplotlib.image.AxesImage at 0x7f7eddc3c240>"
      ]
     },
     "execution_count": 8,
     "metadata": {},
     "output_type": "execute_result"
    },
    {
     "data": {
      "image/png": "[encoded data removed]",
      "text/plain": [
       "<Figure size 432x288 with 1 Axes>"
      ]
     },
     "metadata": {
      "needs_background": "light"
     },
     "output_type": "display_data"
    }
   ],
   "source": [
    "plt.imshow(images[0][0])"
   ]
  },
  {
   "cell_type": "code",
   "execution_count": 9,
   "metadata": {},
   "outputs": [
    {
     "data": {
      "text/plain": [
       "torch.Size([3, 256, 256])"
      ]
     },
     "execution_count": 9,
     "metadata": {},
     "output_type": "execute_result"
    }
   ],
   "source": [
    "images[0].size()"
   ]
  },
  {
   "cell_type": "code",
   "execution_count": 10,
   "metadata": {},
   "outputs": [
    {
     "data": {
      "text/plain": [
       "[tensor([ 2,  4, 18,  9,  6, 11, 10, 15, 10, 10,  3, 11,  9,  2, 10,  9,  9,  9,\n",
       "          9,  3,  1, 12,  9,  2, 16, 10, 17, 15, 17, 14, 13, 17]),\n",
       " tensor([1., 1., 0., 0., 1., 0., 0., 1., 0., 0., 1., 0., 0., 1., 1., 0., 0., 0.,\n",
       "         0., 1., 1., 0., 0., 1., 0., 0., 0., 0., 0., 0., 0., 0.])]"
      ]
     },
     "execution_count": 10,
     "metadata": {},
     "output_type": "execute_result"
    }
   ],
   "source": [
    "labels"
   ]
  },
  {
   "cell_type": "markdown",
   "metadata": {},
   "source": [
    "## Model Training"
   ]
  },
  {
   "cell_type": "code",
   "execution_count": 11,
   "metadata": {},
   "outputs": [],
   "source": [
    "model_ft = timm.create_model('densenet121', pretrained=True, num_classes=5)"
   ]
  },
  {
   "cell_type": "code",
   "execution_count": 16,
   "metadata": {},
   "outputs": [
    {
     "name": "stderr",
     "output_type": "stream",
     "text": [
      "Downloading: \"https://github.com/rwightman/pytorch-image-models/releases/download/v0.1-weights/resnet50_ram-a26f946b.pth\" to /root/.cache/torch/hub/checkpoints/resnet50_ram-a26f946b.pth\n"
     ]
    }
   ],
   "source": [
    "model_ft = timm.create_model('resnet50', pretrained=True, num_classes=5)"
   ]
  },
  {
   "cell_type": "code",
   "execution_count": 12,
   "metadata": {},
   "outputs": [
    {
     "data": {
      "text/plain": [
       "<All keys matched successfully>"
      ]
     },
     "execution_count": 12,
     "metadata": {},
     "output_type": "execute_result"
    }
   ],
   "source": [
    "# transfer learning block\n",
    "model_ft.load_state_dict(torch.load('pretrained/5_jama_den121.pth'))"
   ]
  },
  {
   "cell_type": "code",
   "execution_count": 18,
   "metadata": {},
   "outputs": [
    {
     "data": {
      "text/plain": [
       "<All keys matched successfully>"
      ]
     },
     "execution_count": 18,
     "metadata": {},
     "output_type": "execute_result"
    }
   ],
   "source": [
    "# transfer learning block\n",
    "model_ft.load_state_dict(torch.load('pretrained/5_jama_res50.pth'))"
   ]
  },
  {
   "cell_type": "code",
   "execution_count": 13,
   "metadata": {},
   "outputs": [],
   "source": [
    "# DenseNet 121\n",
    "num_ftrs = model_ft.classifier.in_features\n",
    "model_ft.classifier = nn.Linear(num_ftrs, labtrans.out_features)"
   ]
  },
  {
   "cell_type": "code",
   "execution_count": 19,
   "metadata": {},
   "outputs": [],
   "source": [
    "# ResNet 50\n",
    "num_ftrs = model_ft.fc.in_features\n",
    "model_ft.fc = nn.Linear(num_ftrs, labtrans.out_features)"
   ]
  },
  {
   "cell_type": "code",
   "execution_count": 20,
   "metadata": {
    "scrolled": true
   },
   "outputs": [
    {
     "data": {
      "text/plain": [
       "ResNet(\n",
       "  (conv1): Conv2d(3, 64, kernel_size=(7, 7), stride=(2, 2), padding=(3, 3), bias=False)\n",
       "  (bn1): BatchNorm2d(64, eps=1e-05, momentum=0.1, affine=True, track_running_stats=True)\n",
       "  (act1): ReLU(inplace=True)\n",
       "  (maxpool): MaxPool2d(kernel_size=3, stride=2, padding=1, dilation=1, ceil_mode=False)\n",
       "  (layer1): Sequential(\n",
       "    (0): Bottleneck(\n",
       "      (conv1): Conv2d(64, 64, kernel_size=(1, 1), stride=(1, 1), bias=False)\n",
       "      (bn1): BatchNorm2d(64, eps=1e-05, momentum=0.1, affine=True, track_running_stats=True)\n",
       "      (act1): ReLU(inplace=True)\n",
       "      (conv2): Conv2d(64, 64, kernel_size=(3, 3), stride=(1, 1), padding=(1, 1), bias=False)\n",
       "      (bn2): BatchNorm2d(64, eps=1e-05, momentum=0.1, affine=True, track_running_stats=True)\n",
       "      (act2): ReLU(inplace=True)\n",
       "      (conv3): Conv2d(64, 256, kernel_size=(1, 1), stride=(1, 1), bias=False)\n",
       "      (bn3): BatchNorm2d(256, eps=1e-05, momentum=0.1, affine=True, track_running_stats=True)\n",
       "      (act3): ReLU(inplace=True)\n",
       "      (downsample): Sequential(\n",
       "        (0): Conv2d(64, 256, kernel_size=(1, 1), stride=(1, 1), bias=False)\n",
       "        (1): BatchNorm2d(256, eps=1e-05, momentum=0.1, affine=True, track_running_stats=True)\n",
       "      )\n",
       "    )\n",
       "    (1): Bottleneck(\n",
       "      (conv1): Conv2d(256, 64, kernel_size=(1, 1), stride=(1, 1), bias=False)\n",
       "      (bn1): BatchNorm2d(64, eps=1e-05, momentum=0.1, affine=True, track_running_stats=True)\n",
       "      (act1): ReLU(inplace=True)\n",
       "      (conv2): Conv2d(64, 64, kernel_size=(3, 3), stride=(1, 1), padding=(1, 1), bias=False)\n",
       "      (bn2): BatchNorm2d(64, eps=1e-05, momentum=0.1, affine=True, track_running_stats=True)\n",
       "      (act2): ReLU(inplace=True)\n",
       "      (conv3): Conv2d(64, 256, kernel_size=(1, 1), stride=(1, 1), bias=False)\n",
       "      (bn3): BatchNorm2d(256, eps=1e-05, momentum=0.1, affine=True, track_running_stats=True)\n",
       "      (act3): ReLU(inplace=True)\n",
       "    )\n",
       "    (2): Bottleneck(\n",
       "      (conv1): Conv2d(256, 64, kernel_size=(1, 1), stride=(1, 1), bias=False)\n",
       "      (bn1): BatchNorm2d(64, eps=1e-05, momentum=0.1, affine=True, track_running_stats=True)\n",
       "      (act1): ReLU(inplace=True)\n",
       "      (conv2): Conv2d(64, 64, kernel_size=(3, 3), stride=(1, 1), padding=(1, 1), bias=False)\n",
       "      (bn2): BatchNorm2d(64, eps=1e-05, momentum=0.1, affine=True, track_running_stats=True)\n",
       "      (act2): ReLU(inplace=True)\n",
       "      (conv3): Conv2d(64, 256, kernel_size=(1, 1), stride=(1, 1), bias=False)\n",
       "      (bn3): BatchNorm2d(256, eps=1e-05, momentum=0.1, affine=True, track_running_stats=True)\n",
       "      (act3): ReLU(inplace=True)\n",
       "    )\n",
       "  )\n",
       "  (layer2): Sequential(\n",
       "    (0): Bottleneck(\n",
       "      (conv1): Conv2d(256, 128, kernel_size=(1, 1), stride=(1, 1), bias=False)\n",
       "      (bn1): BatchNorm2d(128, eps=1e-05, momentum=0.1, affine=True, track_running_stats=True)\n",
       "      (act1): ReLU(inplace=True)\n",
       "      (conv2): Conv2d(128, 128, kernel_size=(3, 3), stride=(2, 2), padding=(1, 1), bias=False)\n",
       "      (bn2): BatchNorm2d(128, eps=1e-05, momentum=0.1, affine=True, track_running_stats=True)\n",
       "      (act2): ReLU(inplace=True)\n",
       "      (conv3): Conv2d(128, 512, kernel_size=(1, 1), stride=(1, 1), bias=False)\n",
       "      (bn3): BatchNorm2d(512, eps=1e-05, momentum=0.1, affine=True, track_running_stats=True)\n",
       "      (act3): ReLU(inplace=True)\n",
       "      (downsample): Sequential(\n",
       "        (0): Conv2d(256, 512, kernel_size=(1, 1), stride=(2, 2), bias=False)\n",
       "        (1): BatchNorm2d(512, eps=1e-05, momentum=0.1, affine=True, track_running_stats=True)\n",
       "      )\n",
       "    )\n",
       "    (1): Bottleneck(\n",
       "      (conv1): Conv2d(512, 128, kernel_size=(1, 1), stride=(1, 1), bias=False)\n",
       "      (bn1): BatchNorm2d(128, eps=1e-05, momentum=0.1, affine=True, track_running_stats=True)\n",
       "      (act1): ReLU(inplace=True)\n",
       "      (conv2): Conv2d(128, 128, kernel_size=(3, 3), stride=(1, 1), padding=(1, 1), bias=False)\n",
       "      (bn2): BatchNorm2d(128, eps=1e-05, momentum=0.1, affine=True, track_running_stats=True)\n",
       "      (act2): ReLU(inplace=True)\n",
       "      (conv3): Conv2d(128, 512, kernel_size=(1, 1), stride=(1, 1), bias=False)\n",
       "      (bn3): BatchNorm2d(512, eps=1e-05, momentum=0.1, affine=True, track_running_stats=True)\n",
       "      (act3): ReLU(inplace=True)\n",
       "    )\n",
       "    (2): Bottleneck(\n",
       "      (conv1): Conv2d(512, 128, kernel_size=(1, 1), stride=(1, 1), bias=False)\n",
       "      (bn1): BatchNorm2d(128, eps=1e-05, momentum=0.1, affine=True, track_running_stats=True)\n",
       "      (act1): ReLU(inplace=True)\n",
       "      (conv2): Conv2d(128, 128, kernel_size=(3, 3), stride=(1, 1), padding=(1, 1), bias=False)\n",
       "      (bn2): BatchNorm2d(128, eps=1e-05, momentum=0.1, affine=True, track_running_stats=True)\n",
       "      (act2): ReLU(inplace=True)\n",
       "      (conv3): Conv2d(128, 512, kernel_size=(1, 1), stride=(1, 1), bias=False)\n",
       "      (bn3): BatchNorm2d(512, eps=1e-05, momentum=0.1, affine=True, track_running_stats=True)\n",
       "      (act3): ReLU(inplace=True)\n",
       "    )\n",
       "    (3): Bottleneck(\n",
       "      (conv1): Conv2d(512, 128, kernel_size=(1, 1), stride=(1, 1), bias=False)\n",
       "      (bn1): BatchNorm2d(128, eps=1e-05, momentum=0.1, affine=True, track_running_stats=True)\n",
       "      (act1): ReLU(inplace=True)\n",
       "      (conv2): Conv2d(128, 128, kernel_size=(3, 3), stride=(1, 1), padding=(1, 1), bias=False)\n",
       "      (bn2): BatchNorm2d(128, eps=1e-05, momentum=0.1, affine=True, track_running_stats=True)\n",
       "      (act2): ReLU(inplace=True)\n",
       "      (conv3): Conv2d(128, 512, kernel_size=(1, 1), stride=(1, 1), bias=False)\n",
       "      (bn3): BatchNorm2d(512, eps=1e-05, momentum=0.1, affine=True, track_running_stats=True)\n",
       "      (act3): ReLU(inplace=True)\n",
       "    )\n",
       "  )\n",
       "  (layer3): Sequential(\n",
       "    (0): Bottleneck(\n",
       "      (conv1): Conv2d(512, 256, kernel_size=(1, 1), stride=(1, 1), bias=False)\n",
       "      (bn1): BatchNorm2d(256, eps=1e-05, momentum=0.1, affine=True, track_running_stats=True)\n",
       "      (act1): ReLU(inplace=True)\n",
       "      (conv2): Conv2d(256, 256, kernel_size=(3, 3), stride=(2, 2), padding=(1, 1), bias=False)\n",
       "      (bn2): BatchNorm2d(256, eps=1e-05, momentum=0.1, affine=True, track_running_stats=True)\n",
       "      (act2): ReLU(inplace=True)\n",
       "      (conv3): Conv2d(256, 1024, kernel_size=(1, 1), stride=(1, 1), bias=False)\n",
       "      (bn3): BatchNorm2d(1024, eps=1e-05, momentum=0.1, affine=True, track_running_stats=True)\n",
       "      (act3): ReLU(inplace=True)\n",
       "      (downsample): Sequential(\n",
       "        (0): Conv2d(512, 1024, kernel_size=(1, 1), stride=(2, 2), bias=False)\n",
       "        (1): BatchNorm2d(1024, eps=1e-05, momentum=0.1, affine=True, track_running_stats=True)\n",
       "      )\n",
       "    )\n",
       "    (1): Bottleneck(\n",
       "      (conv1): Conv2d(1024, 256, kernel_size=(1, 1), stride=(1, 1), bias=False)\n",
       "      (bn1): BatchNorm2d(256, eps=1e-05, momentum=0.1, affine=True, track_running_stats=True)\n",
       "      (act1): ReLU(inplace=True)\n",
       "      (conv2): Conv2d(256, 256, kernel_size=(3, 3), stride=(1, 1), padding=(1, 1), bias=False)\n",
       "      (bn2): BatchNorm2d(256, eps=1e-05, momentum=0.1, affine=True, track_running_stats=True)\n",
       "      (act2): ReLU(inplace=True)\n",
       "      (conv3): Conv2d(256, 1024, kernel_size=(1, 1), stride=(1, 1), bias=False)\n",
       "      (bn3): BatchNorm2d(1024, eps=1e-05, momentum=0.1, affine=True, track_running_stats=True)\n",
       "      (act3): ReLU(inplace=True)\n",
       "    )\n",
       "    (2): Bottleneck(\n",
       "      (conv1): Conv2d(1024, 256, kernel_size=(1, 1), stride=(1, 1), bias=False)\n",
       "      (bn1): BatchNorm2d(256, eps=1e-05, momentum=0.1, affine=True, track_running_stats=True)\n",
       "      (act1): ReLU(inplace=True)\n",
       "      (conv2): Conv2d(256, 256, kernel_size=(3, 3), stride=(1, 1), padding=(1, 1), bias=False)\n",
       "      (bn2): BatchNorm2d(256, eps=1e-05, momentum=0.1, affine=True, track_running_stats=True)\n",
       "      (act2): ReLU(inplace=True)\n",
       "      (conv3): Conv2d(256, 1024, kernel_size=(1, 1), stride=(1, 1), bias=False)\n",
       "      (bn3): BatchNorm2d(1024, eps=1e-05, momentum=0.1, affine=True, track_running_stats=True)\n",
       "      (act3): ReLU(inplace=True)\n",
       "    )\n",
       "    (3): Bottleneck(\n",
       "      (conv1): Conv2d(1024, 256, kernel_size=(1, 1), stride=(1, 1), bias=False)\n",
       "      (bn1): BatchNorm2d(256, eps=1e-05, momentum=0.1, affine=True, track_running_stats=True)\n",
       "      (act1): ReLU(inplace=True)\n",
       "      (conv2): Conv2d(256, 256, kernel_size=(3, 3), stride=(1, 1), padding=(1, 1), bias=False)\n",
       "      (bn2): BatchNorm2d(256, eps=1e-05, momentum=0.1, affine=True, track_running_stats=True)\n",
       "      (act2): ReLU(inplace=True)\n",
       "      (conv3): Conv2d(256, 1024, kernel_size=(1, 1), stride=(1, 1), bias=False)\n",
       "      (bn3): BatchNorm2d(1024, eps=1e-05, momentum=0.1, affine=True, track_running_stats=True)\n",
       "      (act3): ReLU(inplace=True)\n",
       "    )\n",
       "    (4): Bottleneck(\n",
       "      (conv1): Conv2d(1024, 256, kernel_size=(1, 1), stride=(1, 1), bias=False)\n",
       "      (bn1): BatchNorm2d(256, eps=1e-05, momentum=0.1, affine=True, track_running_stats=True)\n",
       "      (act1): ReLU(inplace=True)\n",
       "      (conv2): Conv2d(256, 256, kernel_size=(3, 3), stride=(1, 1), padding=(1, 1), bias=False)\n",
       "      (bn2): BatchNorm2d(256, eps=1e-05, momentum=0.1, affine=True, track_running_stats=True)\n",
       "      (act2): ReLU(inplace=True)\n",
       "      (conv3): Conv2d(256, 1024, kernel_size=(1, 1), stride=(1, 1), bias=False)\n",
       "      (bn3): BatchNorm2d(1024, eps=1e-05, momentum=0.1, affine=True, track_running_stats=True)\n",
       "      (act3): ReLU(inplace=True)\n",
       "    )\n",
       "    (5): Bottleneck(\n",
       "      (conv1): Conv2d(1024, 256, kernel_size=(1, 1), stride=(1, 1), bias=False)\n",
       "      (bn1): BatchNorm2d(256, eps=1e-05, momentum=0.1, affine=True, track_running_stats=True)\n",
       "      (act1): ReLU(inplace=True)\n",
       "      (conv2): Conv2d(256, 256, kernel_size=(3, 3), stride=(1, 1), padding=(1, 1), bias=False)\n",
       "      (bn2): BatchNorm2d(256, eps=1e-05, momentum=0.1, affine=True, track_running_stats=True)\n",
       "      (act2): ReLU(inplace=True)\n",
       "      (conv3): Conv2d(256, 1024, kernel_size=(1, 1), stride=(1, 1), bias=False)\n",
       "      (bn3): BatchNorm2d(1024, eps=1e-05, momentum=0.1, affine=True, track_running_stats=True)\n",
       "      (act3): ReLU(inplace=True)\n",
       "    )\n",
       "  )\n",
       "  (layer4): Sequential(\n",
       "    (0): Bottleneck(\n",
       "      (conv1): Conv2d(1024, 512, kernel_size=(1, 1), stride=(1, 1), bias=False)\n",
       "      (bn1): BatchNorm2d(512, eps=1e-05, momentum=0.1, affine=True, track_running_stats=True)\n",
       "      (act1): ReLU(inplace=True)\n",
       "      (conv2): Conv2d(512, 512, kernel_size=(3, 3), stride=(2, 2), padding=(1, 1), bias=False)\n",
       "      (bn2): BatchNorm2d(512, eps=1e-05, momentum=0.1, affine=True, track_running_stats=True)\n",
       "      (act2): ReLU(inplace=True)\n",
       "      (conv3): Conv2d(512, 2048, kernel_size=(1, 1), stride=(1, 1), bias=False)\n",
       "      (bn3): BatchNorm2d(2048, eps=1e-05, momentum=0.1, affine=True, track_running_stats=True)\n",
       "      (act3): ReLU(inplace=True)\n",
       "      (downsample): Sequential(\n",
       "        (0): Conv2d(1024, 2048, kernel_size=(1, 1), stride=(2, 2), bias=False)\n",
       "        (1): BatchNorm2d(2048, eps=1e-05, momentum=0.1, affine=True, track_running_stats=True)\n",
       "      )\n",
       "    )\n",
       "    (1): Bottleneck(\n",
       "      (conv1): Conv2d(2048, 512, kernel_size=(1, 1), stride=(1, 1), bias=False)\n",
       "      (bn1): BatchNorm2d(512, eps=1e-05, momentum=0.1, affine=True, track_running_stats=True)\n",
       "      (act1): ReLU(inplace=True)\n",
       "      (conv2): Conv2d(512, 512, kernel_size=(3, 3), stride=(1, 1), padding=(1, 1), bias=False)\n",
       "      (bn2): BatchNorm2d(512, eps=1e-05, momentum=0.1, affine=True, track_running_stats=True)\n",
       "      (act2): ReLU(inplace=True)\n",
       "      (conv3): Conv2d(512, 2048, kernel_size=(1, 1), stride=(1, 1), bias=False)\n",
       "      (bn3): BatchNorm2d(2048, eps=1e-05, momentum=0.1, affine=True, track_running_stats=True)\n",
       "      (act3): ReLU(inplace=True)\n",
       "    )\n",
       "    (2): Bottleneck(\n",
       "      (conv1): Conv2d(2048, 512, kernel_size=(1, 1), stride=(1, 1), bias=False)\n",
       "      (bn1): BatchNorm2d(512, eps=1e-05, momentum=0.1, affine=True, track_running_stats=True)\n",
       "      (act1): ReLU(inplace=True)\n",
       "      (conv2): Conv2d(512, 512, kernel_size=(3, 3), stride=(1, 1), padding=(1, 1), bias=False)\n",
       "      (bn2): BatchNorm2d(512, eps=1e-05, momentum=0.1, affine=True, track_running_stats=True)\n",
       "      (act2): ReLU(inplace=True)\n",
       "      (conv3): Conv2d(512, 2048, kernel_size=(1, 1), stride=(1, 1), bias=False)\n",
       "      (bn3): BatchNorm2d(2048, eps=1e-05, momentum=0.1, affine=True, track_running_stats=True)\n",
       "      (act3): ReLU(inplace=True)\n",
       "    )\n",
       "  )\n",
       "  (global_pool): SelectAdaptivePool2d (pool_type=avg, flatten=Flatten(start_dim=1, end_dim=-1))\n",
       "  (fc): Linear(in_features=2048, out_features=20, bias=True)\n",
       ")"
      ]
     },
     "execution_count": 20,
     "metadata": {},
     "output_type": "execute_result"
    }
   ],
   "source": [
    "model_ft"
   ]
  },
  {
   "cell_type": "code",
   "execution_count": null,
   "metadata": {},
   "outputs": [],
   "source": [
    "model = LogisticHazard(model_ft, tt.optim.Adam(0.0001), duration_index=labtrans.cuts)"
   ]
  },
  {
   "cell_type": "code",
   "execution_count": 28,
   "metadata": {
    "scrolled": true
   },
   "outputs": [
    {
     "name": "stdout",
     "output_type": "stream",
     "text": [
      "0:\t[21s / 21s],\t\ttrain_loss: 2.5533,\tval_loss: 1.4173\n",
      "1:\t[19s / 41s],\t\ttrain_loss: 1.3558,\tval_loss: 1.3926\n",
      "2:\t[20s / 1m:1s],\t\ttrain_loss: 1.2607,\tval_loss: 1.3852\n",
      "3:\t[19s / 1m:21s],\t\ttrain_loss: 1.1879,\tval_loss: 1.4062\n",
      "4:\t[20s / 1m:41s],\t\ttrain_loss: 1.1258,\tval_loss: 1.4712\n",
      "5:\t[20s / 2m:1s],\t\ttrain_loss: 1.0543,\tval_loss: 1.4784\n",
      "6:\t[19s / 2m:21s],\t\ttrain_loss: 0.9899,\tval_loss: 1.4504\n",
      "7:\t[20s / 2m:42s],\t\ttrain_loss: 0.9113,\tval_loss: 1.4894\n",
      "8:\t[20s / 3m:3s],\t\ttrain_loss: 0.8187,\tval_loss: 1.5845\n",
      "9:\t[19s / 3m:22s],\t\ttrain_loss: 0.7439,\tval_loss: 1.6215\n",
      "10:\t[20s / 3m:43s],\t\ttrain_loss: 0.6731,\tval_loss: 1.6592\n",
      "11:\t[20s / 4m:3s],\t\ttrain_loss: 0.5972,\tval_loss: 1.6554\n",
      "12:\t[19s / 4m:22s],\t\ttrain_loss: 0.5085,\tval_loss: 1.7126\n"
     ]
    }
   ],
   "source": [
    "# earlystopping metric은 어디에서 지정?\n",
    "# lr_scheduler\n",
    "\n",
    "callbacks = [tt.cb.EarlyStopping(patience=10)]\n",
    "epochs = 200\n",
    "verbose = True\n",
    "log = model.fit_dataloader(dataloaders['train'], epochs, callbacks, verbose, val_dataloader=dataloaders['val'])"
   ]
  },
  {
   "cell_type": "code",
   "execution_count": 29,
   "metadata": {},
   "outputs": [
    {
     "data": {
      "image/png": "[encoded data removed]",
      "text/plain": [
       "<Figure size 432x288 with 1 Axes>"
      ]
     },
     "metadata": {
      "needs_background": "light"
     },
     "output_type": "display_data"
    }
   ],
   "source": [
    "_ = log.plot()"
   ]
  },
  {
   "cell_type": "markdown",
   "metadata": {},
   "source": [
    "## Model Evaluate"
   ]
  },
  {
   "cell_type": "code",
   "execution_count": 32,
   "metadata": {},
   "outputs": [],
   "source": [
    "class ImgSimInput(Dataset):\n",
    "    def __init__(self, img_dataset):\n",
    "        self.img_dataset = img_dataset\n",
    "\n",
    "    def __len__(self):\n",
    "        return len(self.img_dataset)\n",
    "\n",
    "    def __getitem__(self, index):\n",
    "        img = self.img_dataset[index][0]\n",
    "        return img"
   ]
  },
  {
   "cell_type": "code",
   "execution_count": 33,
   "metadata": {},
   "outputs": [],
   "source": [
    "dataset_test_x = ImgSimInput(image_datasets['test'])\n",
    "dl_test_x = DataLoader(dataset_test_x, batch_size, shuffle=False)"
   ]
  },
  {
   "cell_type": "code",
   "execution_count": 34,
   "metadata": {},
   "outputs": [],
   "source": [
    "import pandas as pd"
   ]
  },
  {
   "cell_type": "code",
   "execution_count": 39,
   "metadata": {},
   "outputs": [
    {
     "data": {
      "text/html": [
       "<div>\n",
       "<style scoped>\n",
       "    .dataframe tbody tr th:only-of-type {\n",
       "        vertical-align: middle;\n",
       "    }\n",
       "\n",
       "    .dataframe tbody tr th {\n",
       "        vertical-align: top;\n",
       "    }\n",
       "\n",
       "    .dataframe thead th {\n",
       "        text-align: right;\n",
       "    }\n",
       "</style>\n",
       "<table border=\"1\" class=\"dataframe\">\n",
       "  <thead>\n",
       "    <tr style=\"text-align: right;\">\n",
       "      <th></th>\n",
       "      <th>inclusion</th>\n",
       "      <th>training</th>\n",
       "      <th>val</th>\n",
       "      <th>test</th>\n",
       "      <th>ext</th>\n",
       "      <th>error</th>\n",
       "      <th>exclusion</th>\n",
       "      <th>censor</th>\n",
       "      <th>5YSR</th>\n",
       "      <th>survival</th>\n",
       "    </tr>\n",
       "  </thead>\n",
       "  <tbody>\n",
       "    <tr>\n",
       "      <th>0</th>\n",
       "      <td>1</td>\n",
       "      <td>NaN</td>\n",
       "      <td>NaN</td>\n",
       "      <td>1.0</td>\n",
       "      <td>NaN</td>\n",
       "      <td>NaN</td>\n",
       "      <td>0</td>\n",
       "      <td>0.0</td>\n",
       "      <td>1</td>\n",
       "      <td>2214.0</td>\n",
       "    </tr>\n",
       "    <tr>\n",
       "      <th>1</th>\n",
       "      <td>2</td>\n",
       "      <td>1.0</td>\n",
       "      <td>NaN</td>\n",
       "      <td>NaN</td>\n",
       "      <td>NaN</td>\n",
       "      <td>NaN</td>\n",
       "      <td>1</td>\n",
       "      <td>1.0</td>\n",
       "      <td>0</td>\n",
       "      <td>251.0</td>\n",
       "    </tr>\n",
       "    <tr>\n",
       "      <th>2</th>\n",
       "      <td>3</td>\n",
       "      <td>1.0</td>\n",
       "      <td>NaN</td>\n",
       "      <td>NaN</td>\n",
       "      <td>NaN</td>\n",
       "      <td>NaN</td>\n",
       "      <td>0</td>\n",
       "      <td>1.0</td>\n",
       "      <td>0</td>\n",
       "      <td>564.0</td>\n",
       "    </tr>\n",
       "    <tr>\n",
       "      <th>3</th>\n",
       "      <td>5</td>\n",
       "      <td>NaN</td>\n",
       "      <td>1.0</td>\n",
       "      <td>NaN</td>\n",
       "      <td>NaN</td>\n",
       "      <td>NaN</td>\n",
       "      <td>1</td>\n",
       "      <td>0.0</td>\n",
       "      <td>1</td>\n",
       "      <td>1727.0</td>\n",
       "    </tr>\n",
       "    <tr>\n",
       "      <th>4</th>\n",
       "      <td>7</td>\n",
       "      <td>NaN</td>\n",
       "      <td>1.0</td>\n",
       "      <td>NaN</td>\n",
       "      <td>NaN</td>\n",
       "      <td>NaN</td>\n",
       "      <td>0</td>\n",
       "      <td>1.0</td>\n",
       "      <td>0</td>\n",
       "      <td>575.0</td>\n",
       "    </tr>\n",
       "    <tr>\n",
       "      <th>...</th>\n",
       "      <td>...</td>\n",
       "      <td>...</td>\n",
       "      <td>...</td>\n",
       "      <td>...</td>\n",
       "      <td>...</td>\n",
       "      <td>...</td>\n",
       "      <td>...</td>\n",
       "      <td>...</td>\n",
       "      <td>...</td>\n",
       "      <td>...</td>\n",
       "    </tr>\n",
       "    <tr>\n",
       "      <th>4397</th>\n",
       "      <td>4915</td>\n",
       "      <td>1.0</td>\n",
       "      <td>NaN</td>\n",
       "      <td>NaN</td>\n",
       "      <td>NaN</td>\n",
       "      <td>NaN</td>\n",
       "      <td>0</td>\n",
       "      <td>0.0</td>\n",
       "      <td>1</td>\n",
       "      <td>1661.0</td>\n",
       "    </tr>\n",
       "    <tr>\n",
       "      <th>4398</th>\n",
       "      <td>4916</td>\n",
       "      <td>1.0</td>\n",
       "      <td>NaN</td>\n",
       "      <td>NaN</td>\n",
       "      <td>NaN</td>\n",
       "      <td>NaN</td>\n",
       "      <td>1</td>\n",
       "      <td>1.0</td>\n",
       "      <td>0</td>\n",
       "      <td>405.0</td>\n",
       "    </tr>\n",
       "    <tr>\n",
       "      <th>4399</th>\n",
       "      <td>4917</td>\n",
       "      <td>1.0</td>\n",
       "      <td>NaN</td>\n",
       "      <td>NaN</td>\n",
       "      <td>NaN</td>\n",
       "      <td>NaN</td>\n",
       "      <td>1</td>\n",
       "      <td>1.0</td>\n",
       "      <td>0</td>\n",
       "      <td>135.0</td>\n",
       "    </tr>\n",
       "    <tr>\n",
       "      <th>4400</th>\n",
       "      <td>4918</td>\n",
       "      <td>1.0</td>\n",
       "      <td>NaN</td>\n",
       "      <td>NaN</td>\n",
       "      <td>NaN</td>\n",
       "      <td>NaN</td>\n",
       "      <td>0</td>\n",
       "      <td>0.0</td>\n",
       "      <td>1</td>\n",
       "      <td>1653.0</td>\n",
       "    </tr>\n",
       "    <tr>\n",
       "      <th>4401</th>\n",
       "      <td>4919</td>\n",
       "      <td>1.0</td>\n",
       "      <td>NaN</td>\n",
       "      <td>NaN</td>\n",
       "      <td>NaN</td>\n",
       "      <td>NaN</td>\n",
       "      <td>0</td>\n",
       "      <td>0.0</td>\n",
       "      <td>1</td>\n",
       "      <td>1661.0</td>\n",
       "    </tr>\n",
       "  </tbody>\n",
       "</table>\n",
       "<p>4402 rows × 10 columns</p>\n",
       "</div>"
      ],
      "text/plain": [
       "      inclusion  training  val  test  ext  error  exclusion  censor  5YSR  \\\n",
       "0             1       NaN  NaN   1.0  NaN    NaN          0     0.0     1   \n",
       "1             2       1.0  NaN   NaN  NaN    NaN          1     1.0     0   \n",
       "2             3       1.0  NaN   NaN  NaN    NaN          0     1.0     0   \n",
       "3             5       NaN  1.0   NaN  NaN    NaN          1     0.0     1   \n",
       "4             7       NaN  1.0   NaN  NaN    NaN          0     1.0     0   \n",
       "...         ...       ...  ...   ...  ...    ...        ...     ...   ...   \n",
       "4397       4915       1.0  NaN   NaN  NaN    NaN          0     0.0     1   \n",
       "4398       4916       1.0  NaN   NaN  NaN    NaN          1     1.0     0   \n",
       "4399       4917       1.0  NaN   NaN  NaN    NaN          1     1.0     0   \n",
       "4400       4918       1.0  NaN   NaN  NaN    NaN          0     0.0     1   \n",
       "4401       4919       1.0  NaN   NaN  NaN    NaN          0     0.0     1   \n",
       "\n",
       "      survival  \n",
       "0       2214.0  \n",
       "1        251.0  \n",
       "2        564.0  \n",
       "3       1727.0  \n",
       "4        575.0  \n",
       "...        ...  \n",
       "4397    1661.0  \n",
       "4398     405.0  \n",
       "4399     135.0  \n",
       "4400    1653.0  \n",
       "4401    1661.0  \n",
       "\n",
       "[4402 rows x 10 columns]"
      ]
     },
     "execution_count": 39,
     "metadata": {},
     "output_type": "execute_result"
    }
   ],
   "source": [
    "df = pd.read_csv('../DATA/COPD_train_new.csv')\n",
    "df"
   ]
  },
  {
   "cell_type": "code",
   "execution_count": 41,
   "metadata": {},
   "outputs": [],
   "source": [
    "def event_time(split, image_datasets=image_datasets, df=df):\n",
    "    time_lst = []\n",
    "    event_lst = []\n",
    "    for i in image_datasets[split].imgs_lst:\n",
    "        idx = i.split('/')[-1].split('.')[0]\n",
    "        time_lst.append(df[df['inclusion'] == int(idx)].survival.values[0])\n",
    "        event_lst.append(df[df['inclusion'] == int(idx)].censor.values[0])\n",
    "    return (np.array(time_lst), np.array(event_lst))"
   ]
  },
  {
   "cell_type": "code",
   "execution_count": 60,
   "metadata": {},
   "outputs": [],
   "source": [
    "sim_train = event_time('train')\n",
    "sim_val = event_time('val')\n",
    "sim_test = event_time('test') "
   ]
  },
  {
   "cell_type": "code",
   "execution_count": 72,
   "metadata": {},
   "outputs": [],
   "source": [
    "surv = model.interpolate(10).predict_surv_df(dl_test_x)\n",
    "# interpolate 없으면 3475일을 20등분해서 표현. interpolate(10) 때문에 20*10=200 등분해서 표현"
   ]
  },
  {
   "cell_type": "code",
   "execution_count": 73,
   "metadata": {},
   "outputs": [
    {
     "data": {
      "text/html": [
       "<div>\n",
       "<style scoped>\n",
       "    .dataframe tbody tr th:only-of-type {\n",
       "        vertical-align: middle;\n",
       "    }\n",
       "\n",
       "    .dataframe tbody tr th {\n",
       "        vertical-align: top;\n",
       "    }\n",
       "\n",
       "    .dataframe thead th {\n",
       "        text-align: right;\n",
       "    }\n",
       "</style>\n",
       "<table border=\"1\" class=\"dataframe\">\n",
       "  <thead>\n",
       "    <tr style=\"text-align: right;\">\n",
       "      <th></th>\n",
       "      <th>0</th>\n",
       "      <th>1</th>\n",
       "      <th>2</th>\n",
       "      <th>3</th>\n",
       "      <th>4</th>\n",
       "      <th>5</th>\n",
       "      <th>6</th>\n",
       "      <th>7</th>\n",
       "      <th>8</th>\n",
       "      <th>9</th>\n",
       "      <th>...</th>\n",
       "      <th>424</th>\n",
       "      <th>425</th>\n",
       "      <th>426</th>\n",
       "      <th>427</th>\n",
       "      <th>428</th>\n",
       "      <th>429</th>\n",
       "      <th>430</th>\n",
       "      <th>431</th>\n",
       "      <th>432</th>\n",
       "      <th>433</th>\n",
       "    </tr>\n",
       "  </thead>\n",
       "  <tbody>\n",
       "    <tr>\n",
       "      <th>0.000000</th>\n",
       "      <td>0.994645</td>\n",
       "      <td>0.992076</td>\n",
       "      <td>0.995118</td>\n",
       "      <td>0.995598</td>\n",
       "      <td>0.989158</td>\n",
       "      <td>0.997503</td>\n",
       "      <td>0.995658</td>\n",
       "      <td>0.993637</td>\n",
       "      <td>0.994572</td>\n",
       "      <td>0.991343</td>\n",
       "      <td>...</td>\n",
       "      <td>0.990527</td>\n",
       "      <td>0.994027</td>\n",
       "      <td>0.973170</td>\n",
       "      <td>0.998217</td>\n",
       "      <td>0.993534</td>\n",
       "      <td>0.991610</td>\n",
       "      <td>0.989888</td>\n",
       "      <td>0.995157</td>\n",
       "      <td>0.994274</td>\n",
       "      <td>0.996090</td>\n",
       "    </tr>\n",
       "    <tr>\n",
       "      <th>18.289474</th>\n",
       "      <td>0.994101</td>\n",
       "      <td>0.987683</td>\n",
       "      <td>0.994901</td>\n",
       "      <td>0.994883</td>\n",
       "      <td>0.982871</td>\n",
       "      <td>0.997185</td>\n",
       "      <td>0.991570</td>\n",
       "      <td>0.990401</td>\n",
       "      <td>0.992774</td>\n",
       "      <td>0.989633</td>\n",
       "      <td>...</td>\n",
       "      <td>0.981962</td>\n",
       "      <td>0.992691</td>\n",
       "      <td>0.940229</td>\n",
       "      <td>0.998152</td>\n",
       "      <td>0.991522</td>\n",
       "      <td>0.988415</td>\n",
       "      <td>0.977334</td>\n",
       "      <td>0.994325</td>\n",
       "      <td>0.993609</td>\n",
       "      <td>0.994857</td>\n",
       "    </tr>\n",
       "    <tr>\n",
       "      <th>36.578947</th>\n",
       "      <td>0.993557</td>\n",
       "      <td>0.983291</td>\n",
       "      <td>0.994684</td>\n",
       "      <td>0.994167</td>\n",
       "      <td>0.976584</td>\n",
       "      <td>0.996866</td>\n",
       "      <td>0.987483</td>\n",
       "      <td>0.987165</td>\n",
       "      <td>0.990975</td>\n",
       "      <td>0.987924</td>\n",
       "      <td>...</td>\n",
       "      <td>0.973396</td>\n",
       "      <td>0.991355</td>\n",
       "      <td>0.907287</td>\n",
       "      <td>0.998087</td>\n",
       "      <td>0.989511</td>\n",
       "      <td>0.985221</td>\n",
       "      <td>0.964779</td>\n",
       "      <td>0.993493</td>\n",
       "      <td>0.992944</td>\n",
       "      <td>0.993625</td>\n",
       "    </tr>\n",
       "    <tr>\n",
       "      <th>54.868421</th>\n",
       "      <td>0.993013</td>\n",
       "      <td>0.978899</td>\n",
       "      <td>0.994466</td>\n",
       "      <td>0.993451</td>\n",
       "      <td>0.970297</td>\n",
       "      <td>0.996548</td>\n",
       "      <td>0.983396</td>\n",
       "      <td>0.983929</td>\n",
       "      <td>0.989177</td>\n",
       "      <td>0.986214</td>\n",
       "      <td>...</td>\n",
       "      <td>0.964830</td>\n",
       "      <td>0.990019</td>\n",
       "      <td>0.874346</td>\n",
       "      <td>0.998022</td>\n",
       "      <td>0.987499</td>\n",
       "      <td>0.982027</td>\n",
       "      <td>0.952225</td>\n",
       "      <td>0.992661</td>\n",
       "      <td>0.992278</td>\n",
       "      <td>0.992392</td>\n",
       "    </tr>\n",
       "    <tr>\n",
       "      <th>73.157895</th>\n",
       "      <td>0.992469</td>\n",
       "      <td>0.974507</td>\n",
       "      <td>0.994249</td>\n",
       "      <td>0.992736</td>\n",
       "      <td>0.964010</td>\n",
       "      <td>0.996230</td>\n",
       "      <td>0.979309</td>\n",
       "      <td>0.980694</td>\n",
       "      <td>0.987379</td>\n",
       "      <td>0.984504</td>\n",
       "      <td>...</td>\n",
       "      <td>0.956264</td>\n",
       "      <td>0.988683</td>\n",
       "      <td>0.841404</td>\n",
       "      <td>0.997957</td>\n",
       "      <td>0.985487</td>\n",
       "      <td>0.978832</td>\n",
       "      <td>0.939671</td>\n",
       "      <td>0.991828</td>\n",
       "      <td>0.991613</td>\n",
       "      <td>0.991159</td>\n",
       "    </tr>\n",
       "    <tr>\n",
       "      <th>...</th>\n",
       "      <td>...</td>\n",
       "      <td>...</td>\n",
       "      <td>...</td>\n",
       "      <td>...</td>\n",
       "      <td>...</td>\n",
       "      <td>...</td>\n",
       "      <td>...</td>\n",
       "      <td>...</td>\n",
       "      <td>...</td>\n",
       "      <td>...</td>\n",
       "      <td>...</td>\n",
       "      <td>...</td>\n",
       "      <td>...</td>\n",
       "      <td>...</td>\n",
       "      <td>...</td>\n",
       "      <td>...</td>\n",
       "      <td>...</td>\n",
       "      <td>...</td>\n",
       "      <td>...</td>\n",
       "      <td>...</td>\n",
       "      <td>...</td>\n",
       "    </tr>\n",
       "    <tr>\n",
       "      <th>3401.842105</th>\n",
       "      <td>0.529849</td>\n",
       "      <td>0.230376</td>\n",
       "      <td>0.593633</td>\n",
       "      <td>0.542189</td>\n",
       "      <td>0.272804</td>\n",
       "      <td>0.603730</td>\n",
       "      <td>0.366442</td>\n",
       "      <td>0.286474</td>\n",
       "      <td>0.381617</td>\n",
       "      <td>0.391373</td>\n",
       "      <td>...</td>\n",
       "      <td>0.217173</td>\n",
       "      <td>0.421660</td>\n",
       "      <td>0.014553</td>\n",
       "      <td>0.632547</td>\n",
       "      <td>0.408101</td>\n",
       "      <td>0.316057</td>\n",
       "      <td>0.179363</td>\n",
       "      <td>0.424144</td>\n",
       "      <td>0.488714</td>\n",
       "      <td>0.442473</td>\n",
       "    </tr>\n",
       "    <tr>\n",
       "      <th>3420.131579</th>\n",
       "      <td>0.493120</td>\n",
       "      <td>0.215168</td>\n",
       "      <td>0.548266</td>\n",
       "      <td>0.499904</td>\n",
       "      <td>0.252805</td>\n",
       "      <td>0.560214</td>\n",
       "      <td>0.340203</td>\n",
       "      <td>0.271619</td>\n",
       "      <td>0.345467</td>\n",
       "      <td>0.364653</td>\n",
       "      <td>...</td>\n",
       "      <td>0.202854</td>\n",
       "      <td>0.390239</td>\n",
       "      <td>0.013547</td>\n",
       "      <td>0.579815</td>\n",
       "      <td>0.376135</td>\n",
       "      <td>0.293320</td>\n",
       "      <td>0.169533</td>\n",
       "      <td>0.388651</td>\n",
       "      <td>0.446212</td>\n",
       "      <td>0.410421</td>\n",
       "    </tr>\n",
       "    <tr>\n",
       "      <th>3438.421053</th>\n",
       "      <td>0.456391</td>\n",
       "      <td>0.199961</td>\n",
       "      <td>0.502899</td>\n",
       "      <td>0.457619</td>\n",
       "      <td>0.232807</td>\n",
       "      <td>0.516698</td>\n",
       "      <td>0.313963</td>\n",
       "      <td>0.256763</td>\n",
       "      <td>0.309316</td>\n",
       "      <td>0.337933</td>\n",
       "      <td>...</td>\n",
       "      <td>0.188535</td>\n",
       "      <td>0.358818</td>\n",
       "      <td>0.012541</td>\n",
       "      <td>0.527083</td>\n",
       "      <td>0.344170</td>\n",
       "      <td>0.270584</td>\n",
       "      <td>0.159703</td>\n",
       "      <td>0.353158</td>\n",
       "      <td>0.403710</td>\n",
       "      <td>0.378368</td>\n",
       "    </tr>\n",
       "    <tr>\n",
       "      <th>3456.710526</th>\n",
       "      <td>0.419661</td>\n",
       "      <td>0.184753</td>\n",
       "      <td>0.457531</td>\n",
       "      <td>0.415334</td>\n",
       "      <td>0.212808</td>\n",
       "      <td>0.473182</td>\n",
       "      <td>0.287724</td>\n",
       "      <td>0.241908</td>\n",
       "      <td>0.273165</td>\n",
       "      <td>0.311213</td>\n",
       "      <td>...</td>\n",
       "      <td>0.174216</td>\n",
       "      <td>0.327397</td>\n",
       "      <td>0.011535</td>\n",
       "      <td>0.474351</td>\n",
       "      <td>0.312204</td>\n",
       "      <td>0.247847</td>\n",
       "      <td>0.149873</td>\n",
       "      <td>0.317665</td>\n",
       "      <td>0.361207</td>\n",
       "      <td>0.346316</td>\n",
       "    </tr>\n",
       "    <tr>\n",
       "      <th>3475.000000</th>\n",
       "      <td>0.382932</td>\n",
       "      <td>0.169545</td>\n",
       "      <td>0.412164</td>\n",
       "      <td>0.373049</td>\n",
       "      <td>0.192810</td>\n",
       "      <td>0.429666</td>\n",
       "      <td>0.261484</td>\n",
       "      <td>0.227053</td>\n",
       "      <td>0.237014</td>\n",
       "      <td>0.284493</td>\n",
       "      <td>...</td>\n",
       "      <td>0.159897</td>\n",
       "      <td>0.295976</td>\n",
       "      <td>0.010529</td>\n",
       "      <td>0.421619</td>\n",
       "      <td>0.280238</td>\n",
       "      <td>0.225110</td>\n",
       "      <td>0.140043</td>\n",
       "      <td>0.282172</td>\n",
       "      <td>0.318705</td>\n",
       "      <td>0.314263</td>\n",
       "    </tr>\n",
       "  </tbody>\n",
       "</table>\n",
       "<p>191 rows × 434 columns</p>\n",
       "</div>"
      ],
      "text/plain": [
       "                  0         1         2         3         4         5    \\\n",
       "0.000000     0.994645  0.992076  0.995118  0.995598  0.989158  0.997503   \n",
       "18.289474    0.994101  0.987683  0.994901  0.994883  0.982871  0.997185   \n",
       "36.578947    0.993557  0.983291  0.994684  0.994167  0.976584  0.996866   \n",
       "54.868421    0.993013  0.978899  0.994466  0.993451  0.970297  0.996548   \n",
       "73.157895    0.992469  0.974507  0.994249  0.992736  0.964010  0.996230   \n",
       "...               ...       ...       ...       ...       ...       ...   \n",
       "3401.842105  0.529849  0.230376  0.593633  0.542189  0.272804  0.603730   \n",
       "3420.131579  0.493120  0.215168  0.548266  0.499904  0.252805  0.560214   \n",
       "3438.421053  0.456391  0.199961  0.502899  0.457619  0.232807  0.516698   \n",
       "3456.710526  0.419661  0.184753  0.457531  0.415334  0.212808  0.473182   \n",
       "3475.000000  0.382932  0.169545  0.412164  0.373049  0.192810  0.429666   \n",
       "\n",
       "                  6         7         8         9    ...       424       425  \\\n",
       "0.000000     0.995658  0.993637  0.994572  0.991343  ...  0.990527  0.994027   \n",
       "18.289474    0.991570  0.990401  0.992774  0.989633  ...  0.981962  0.992691   \n",
       "36.578947    0.987483  0.987165  0.990975  0.987924  ...  0.973396  0.991355   \n",
       "54.868421    0.983396  0.983929  0.989177  0.986214  ...  0.964830  0.990019   \n",
       "73.157895    0.979309  0.980694  0.987379  0.984504  ...  0.956264  0.988683   \n",
       "...               ...       ...       ...       ...  ...       ...       ...   \n",
       "3401.842105  0.366442  0.286474  0.381617  0.391373  ...  0.217173  0.421660   \n",
       "3420.131579  0.340203  0.271619  0.345467  0.364653  ...  0.202854  0.390239   \n",
       "3438.421053  0.313963  0.256763  0.309316  0.337933  ...  0.188535  0.358818   \n",
       "3456.710526  0.287724  0.241908  0.273165  0.311213  ...  0.174216  0.327397   \n",
       "3475.000000  0.261484  0.227053  0.237014  0.284493  ...  0.159897  0.295976   \n",
       "\n",
       "                  426       427       428       429       430       431  \\\n",
       "0.000000     0.973170  0.998217  0.993534  0.991610  0.989888  0.995157   \n",
       "18.289474    0.940229  0.998152  0.991522  0.988415  0.977334  0.994325   \n",
       "36.578947    0.907287  0.998087  0.989511  0.985221  0.964779  0.993493   \n",
       "54.868421    0.874346  0.998022  0.987499  0.982027  0.952225  0.992661   \n",
       "73.157895    0.841404  0.997957  0.985487  0.978832  0.939671  0.991828   \n",
       "...               ...       ...       ...       ...       ...       ...   \n",
       "3401.842105  0.014553  0.632547  0.408101  0.316057  0.179363  0.424144   \n",
       "3420.131579  0.013547  0.579815  0.376135  0.293320  0.169533  0.388651   \n",
       "3438.421053  0.012541  0.527083  0.344170  0.270584  0.159703  0.353158   \n",
       "3456.710526  0.011535  0.474351  0.312204  0.247847  0.149873  0.317665   \n",
       "3475.000000  0.010529  0.421619  0.280238  0.225110  0.140043  0.282172   \n",
       "\n",
       "                  432       433  \n",
       "0.000000     0.994274  0.996090  \n",
       "18.289474    0.993609  0.994857  \n",
       "36.578947    0.992944  0.993625  \n",
       "54.868421    0.992278  0.992392  \n",
       "73.157895    0.991613  0.991159  \n",
       "...               ...       ...  \n",
       "3401.842105  0.488714  0.442473  \n",
       "3420.131579  0.446212  0.410421  \n",
       "3438.421053  0.403710  0.378368  \n",
       "3456.710526  0.361207  0.346316  \n",
       "3475.000000  0.318705  0.314263  \n",
       "\n",
       "[191 rows x 434 columns]"
      ]
     },
     "execution_count": 73,
     "metadata": {},
     "output_type": "execute_result"
    }
   ],
   "source": [
    "surv"
   ]
  },
  {
   "cell_type": "code",
   "execution_count": 63,
   "metadata": {},
   "outputs": [],
   "source": [
    "ev = EvalSurv(surv, *sim_test, 'km') # Estimate using Kaplan-Meier Method"
   ]
  },
  {
   "cell_type": "code",
   "execution_count": 49,
   "metadata": {},
   "outputs": [
    {
     "data": {
      "text/plain": [
       "0.7372"
      ]
     },
     "execution_count": 49,
     "metadata": {},
     "output_type": "execute_result"
    }
   ],
   "source": [
    "round(ev.concordance_td(), 4)"
   ]
  },
  {
   "cell_type": "code",
   "execution_count": 50,
   "metadata": {},
   "outputs": [],
   "source": [
    "def time_label(index_time, sim_test=sim_test):\n",
    "    label_lst = []                  # 예측 생존 여부\n",
    "    for i in range(len(sim_test[0])):\n",
    "        dur = sim_test[0][i]        # 실제 생존 기간\n",
    "        evt = sim_test[1][i]        # 최종 follow up 당시 생존 여부 (0: 생존, 1: 사망)\n",
    "        if evt == 0:\n",
    "            label_lst.append(0)\n",
    "        elif evt == 1:\n",
    "            if dur > index_time:    # 최종 follow up 기간 이후에 사망하는 걸로 예측되었다면, 생존으로 표기\n",
    "                label_lst.append(0)\n",
    "            else:\n",
    "                label_lst.append(1)\n",
    "        else:\n",
    "            print(\"Something wrong!\")\n",
    "    return label_lst"
   ]
  },
  {
   "cell_type": "code",
   "execution_count": 51,
   "metadata": {},
   "outputs": [
    {
     "name": "stdout",
     "output_type": "stream",
     "text": [
      "0.8211\n",
      "0.7695\n",
      "0.7729\n"
     ]
    }
   ],
   "source": [
    "fpr = dict()\n",
    "tpr = dict()\n",
    "auc = dict()\n",
    "for year in [1, 3, 5]:\n",
    "    auc[year] = metrics.roc_auc_score(time_label(int(surv.index[20*year])), -surv.iloc[20*year].values+1)\n",
    "    fpr[year], tpr[year], _ = metrics.roc_curve(time_label(int(surv.index[20*year])), -surv.iloc[20*year].values+1)\n",
    "    print(round(auc[year], 4))"
   ]
  },
  {
   "cell_type": "code",
   "execution_count": 52,
   "metadata": {},
   "outputs": [
    {
     "data": {
      "text/plain": [
       "<matplotlib.legend.Legend at 0x7f124a087cc0>"
      ]
     },
     "execution_count": 52,
     "metadata": {},
     "output_type": "execute_result"
    },
    {
     "data": {
      "image/png": "[encoded data removed]",
      "text/plain": [
       "<Figure size 432x288 with 1 Axes>"
      ]
     },
     "metadata": {
      "needs_background": "light"
     },
     "output_type": "display_data"
    }
   ],
   "source": [
    "for year in [1, 3, 5]:\n",
    "    plt.plot(fpr[year], tpr[year], label=f\"{year}-year\")\n",
    "plt.legend()"
   ]
  },
  {
   "cell_type": "code",
   "execution_count": 53,
   "metadata": {},
   "outputs": [],
   "source": [
    "PATH = './results/den121_s256_jama_albu_c76'"
   ]
  },
  {
   "cell_type": "code",
   "execution_count": 54,
   "metadata": {},
   "outputs": [],
   "source": [
    "torch.save(model.net.state_dict(), f\"{PATH}.pt\")"
   ]
  },
  {
   "cell_type": "code",
   "execution_count": 55,
   "metadata": {},
   "outputs": [],
   "source": [
    "surv.to_csv(f\"{PATH}.csv\", index=False)"
   ]
  },
  {
   "cell_type": "code",
   "execution_count": 56,
   "metadata": {},
   "outputs": [
    {
     "data": {
      "image/png": "[encoded data removed]",
      "text/plain": [
       "<Figure size 432x288 with 1 Axes>"
      ]
     },
     "metadata": {
      "needs_background": "light"
     },
     "output_type": "display_data"
    }
   ],
   "source": [
    "for i in range(2):\n",
    "    idx = sim_test[1] == i\n",
    "    surv.loc[:, idx].mean(axis=1).rename(i).plot()\n",
    "_ = plt.legend()"
   ]
  },
  {
   "cell_type": "code",
   "execution_count": 57,
   "metadata": {},
   "outputs": [
    {
     "data": {
      "image/png": "[encoded data removed]",
      "text/plain": [
       "<Figure size 432x288 with 1 Axes>"
      ]
     },
     "metadata": {
      "needs_background": "light"
     },
     "output_type": "display_data"
    }
   ],
   "source": [
    "for i in range(2):\n",
    "    idx = sim_train[1] == i\n",
    "    kaplan_meier(sim_train[0][idx], sim_train[1][idx]).rename(i).plot()\n",
    "_ = plt.legend()"
   ]
  },
  {
   "cell_type": "code",
   "execution_count": 58,
   "metadata": {},
   "outputs": [
    {
     "data": {
      "image/png": "[encoded data removed]",
      "text/plain": [
       "<Figure size 432x288 with 1 Axes>"
      ]
     },
     "metadata": {
      "needs_background": "light"
     },
     "output_type": "display_data"
    }
   ],
   "source": [
    "for i in range(2):\n",
    "    idx = sim_test[1] == i\n",
    "    kaplan_meier(sim_test[0][idx], sim_test[1][idx]).rename(f\"{i}_km\").plot()\n",
    "    surv.loc[:, idx].mean(axis=1).rename(f\"{i}_nn\").plot()\n",
    "\n",
    "_ = plt.legend()"
   ]
  },
  {
   "cell_type": "code",
   "execution_count": 59,
   "metadata": {},
   "outputs": [
    {
     "data": {
      "image/png": "[encoded data removed]",
      "text/plain": [
       "<Figure size 432x288 with 1 Axes>"
      ]
     },
     "metadata": {
      "needs_background": "light"
     },
     "output_type": "display_data"
    }
   ],
   "source": [
    "for i in range(2):\n",
    "    idx = sim_test[1] == i\n",
    "    surv.loc[:, idx].mean(axis=1).rename(i).plot()\n",
    "_ = plt.legend()"
   ]
  }
 ],
 "metadata": {
  "kernelspec": {
   "display_name": "Python 3",
   "language": "python",
   "name": "python3"
  },
  "language_info": {
   "codemirror_mode": {
    "name": "ipython",
    "version": 3
   },
   "file_extension": ".py",
   "mimetype": "text/x-python",
   "name": "python",
   "nbconvert_exporter": "python",
   "pygments_lexer": "ipython3",
   "version": "3.6.9"
  }
 },
 "nbformat": 4,
 "nbformat_minor": 4
}
