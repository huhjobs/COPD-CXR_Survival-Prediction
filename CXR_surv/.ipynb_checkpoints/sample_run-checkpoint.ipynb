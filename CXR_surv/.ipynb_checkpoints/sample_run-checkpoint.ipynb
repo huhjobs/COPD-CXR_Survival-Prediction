{
 "cells": [
  {
   "cell_type": "code",
   "execution_count": 19,
   "metadata": {},
   "outputs": [
    {
     "name": "stdout",
     "output_type": "stream",
     "text": [
      "Tue Aug 10 04:32:10 2021       \n",
      "+-----------------------------------------------------------------------------+\n",
      "| NVIDIA-SMI 450.102.04   Driver Version: 450.102.04   CUDA Version: 11.0     |\n",
      "|-------------------------------+----------------------+----------------------+\n",
      "| GPU  Name        Persistence-M| Bus-Id        Disp.A | Volatile Uncorr. ECC |\n",
      "| Fan  Temp  Perf  Pwr:Usage/Cap|         Memory-Usage | GPU-Util  Compute M. |\n",
      "|                               |                      |               MIG M. |\n",
      "|===============================+======================+======================|\n",
      "|   0  Tesla V100-PCIE...  On   | 00000000:00:07.0 Off |                    0 |\n",
      "| N/A   40C    P0    41W / 250W |   7440MiB / 32480MiB |      0%      Default |\n",
      "+-------------------------------+----------------------+----------------------+\n",
      "                                                                               \n",
      "+-----------------------------------------------------------------------------+\n",
      "| Processes:                                                                  |\n",
      "|  GPU   GI   CI        PID   Type   Process name                  GPU Memory |\n",
      "|        ID   ID                                                   Usage      |\n",
      "|=============================================================================|\n",
      "+-----------------------------------------------------------------------------+\n"
     ]
    }
   ],
   "source": [
    "!nvidia-smi"
   ]
  },
  {
   "cell_type": "code",
   "execution_count": 20,
   "metadata": {},
   "outputs": [
    {
     "name": "stdout",
     "output_type": "stream",
     "text": [
      "Available GPU count:1\n",
      "Project:  copd\n",
      "aug mode: copd\n",
      "batchsize:  32\n",
      "/usr/local/lib/python3.6/dist-packages/albumentations/augmentations/transforms.py:1746: FutureWarning: This class has been deprecated. Please use RandomBrightnessContrast\n",
      "  FutureWarning,\n",
      "/usr/local/lib/python3.6/dist-packages/albumentations/augmentations/transforms.py:1772: FutureWarning: This class has been deprecated. Please use RandomBrightnessContrast\n",
      "  FutureWarning,\n",
      "/usr/local/lib/python3.6/dist-packages/torch/nn/functional.py:718: UserWarning: Named tensors and all their associated APIs are an experimental feature and subject to change. Please do not use them for anything important until they are released as stable. (Triggered internally at  /pytorch/c10/core/TensorImpl.h:1156.)\n",
      "  return torch.max_pool2d(input, kernel_size, stride, padding, dilation, ceil_mode)\n",
      "0:\t[14s / 14s],\t\ttrain_loss: 1.9904,\tval_loss: 1.4037\n",
      "1:\t[12s / 27s],\t\ttrain_loss: 1.3377,\tval_loss: 1.3753\n",
      "2:\t[11s / 39s],\t\ttrain_loss: 1.2684,\tval_loss: 1.4228\n",
      "3:\t[11s / 50s],\t\ttrain_loss: 1.2259,\tval_loss: 1.4238\n",
      "4:\t[12s / 1m:2s],\t\ttrain_loss: 1.1593,\tval_loss: 1.5375\n",
      "5:\t[11s / 1m:14s],\t\ttrain_loss: 1.0984,\tval_loss: 1.5971\n",
      "6:\t[11s / 1m:26s],\t\ttrain_loss: 1.0252,\tval_loss: 1.5732\n",
      "7:\t[12s / 1m:38s],\t\ttrain_loss: 0.9597,\tval_loss: 1.6208\n",
      "8:\t[12s / 1m:50s],\t\ttrain_loss: 0.8859,\tval_loss: 1.6991\n",
      "9:\t[12s / 2m:2s],\t\ttrain_loss: 0.7987,\tval_loss: 1.7066\n",
      "10:\t[11s / 2m:14s],\t\ttrain_loss: 0.7360,\tval_loss: 1.7290\n",
      "11:\t[12s / 2m:26s],\t\ttrain_loss: 0.6729,\tval_loss: 1.8984\n",
      "/usr/local/lib/python3.6/dist-packages/numba/np/ufunc/parallel.py:365: NumbaWarning: The TBB threading layer requires TBB version 2019.5 or later i.e., TBB_INTERFACE_VERSION >= 11005. Found TBB_INTERFACE_VERSION = 9107. The TBB threading layer is disabled.\n",
      "  warnings.warn(problem)\n",
      "==============================\n",
      "C-index :  0.7754\n",
      "1year-AUC :  0.8496\n",
      "3year-AUC :  0.8122\n",
      "5year-AUC :  0.8124\n"
     ]
    }
   ],
   "source": [
    "!python main.py --path_to_images /home/COPD/DATA/COPD_PNG \\\n",
    "                --path_to_csv /home/COPD/DATA/COPD_train_new.csv \\\n",
    "                --project copd \\\n",
    "                --augment copd \\\n",
    "                --pretrained_path pretrained/5_jama_res50.pth \\\n",
    "                --arch resnet50 \\\n",
    "                --surv_module LogisticHazard"
   ]
  },
  {
   "cell_type": "code",
   "execution_count": 21,
   "metadata": {},
   "outputs": [
    {
     "name": "stdout",
     "output_type": "stream",
     "text": [
      "Available GPU count:1\n",
      "Project:  copd\n",
      "aug mode: copd\n",
      "batchsize:  32\n",
      "/usr/local/lib/python3.6/dist-packages/albumentations/augmentations/transforms.py:1746: FutureWarning: This class has been deprecated. Please use RandomBrightnessContrast\n",
      "  FutureWarning,\n",
      "/usr/local/lib/python3.6/dist-packages/albumentations/augmentations/transforms.py:1772: FutureWarning: This class has been deprecated. Please use RandomBrightnessContrast\n",
      "  FutureWarning,\n",
      "/usr/local/lib/python3.6/dist-packages/torch/nn/functional.py:718: UserWarning: Named tensors and all their associated APIs are an experimental feature and subject to change. Please do not use them for anything important until they are released as stable. (Triggered internally at  /pytorch/c10/core/TensorImpl.h:1156.)\n",
      "  return torch.max_pool2d(input, kernel_size, stride, padding, dilation, ceil_mode)\n",
      "0:\t[12s / 12s],\t\ttrain_loss: 2.0280,\tval_loss: 1.4132\n",
      "1:\t[11s / 24s],\t\ttrain_loss: 1.3290,\tval_loss: 1.4304\n",
      "2:\t[12s / 36s],\t\ttrain_loss: 1.2799,\tval_loss: 1.3773\n",
      "3:\t[11s / 48s],\t\ttrain_loss: 1.2171,\tval_loss: 1.3973\n",
      "4:\t[11s / 1m:0s],\t\ttrain_loss: 1.1505,\tval_loss: 1.5365\n",
      "5:\t[11s / 1m:12s],\t\ttrain_loss: 1.0930,\tval_loss: 1.5008\n",
      "6:\t[12s / 1m:24s],\t\ttrain_loss: 1.0015,\tval_loss: 1.5979\n",
      "7:\t[12s / 1m:36s],\t\ttrain_loss: 0.9295,\tval_loss: 1.7927\n",
      "8:\t[12s / 1m:48s],\t\ttrain_loss: 0.8579,\tval_loss: 1.9314\n",
      "9:\t[11s / 2m:0s],\t\ttrain_loss: 0.7734,\tval_loss: 1.8467\n",
      "10:\t[11s / 2m:12s],\t\ttrain_loss: 0.6961,\tval_loss: 1.7919\n",
      "11:\t[11s / 2m:24s],\t\ttrain_loss: 0.6171,\tval_loss: 1.8755\n",
      "12:\t[11s / 2m:35s],\t\ttrain_loss: 0.5676,\tval_loss: 1.9285\n",
      "/usr/local/lib/python3.6/dist-packages/numba/np/ufunc/parallel.py:365: NumbaWarning: The TBB threading layer requires TBB version 2019.5 or later i.e., TBB_INTERFACE_VERSION >= 11005. Found TBB_INTERFACE_VERSION = 9107. The TBB threading layer is disabled.\n",
      "  warnings.warn(problem)\n",
      "==============================\n",
      "C-index :  0.7594\n",
      "1year-AUC :  0.8463\n",
      "3year-AUC :  0.7879\n",
      "5year-AUC :  0.7954\n"
     ]
    }
   ],
   "source": [
    "!python main.py --path_to_images /home/COPD/DATA/COPD_PNG \\\n",
    "                --path_to_csv /home/COPD/DATA/COPD_train_new.csv \\\n",
    "                --project copd \\\n",
    "                --augment copd \\\n",
    "                --pretrained_path pretrained/5_jama_res50.pth \\\n",
    "                --arch resnet50 \\\n",
    "                --surv_module LogisticHazard"
   ]
  },
  {
   "cell_type": "markdown",
   "metadata": {},
   "source": [
    "## results saved to different file"
   ]
  },
  {
   "cell_type": "code",
   "execution_count": 22,
   "metadata": {},
   "outputs": [
    {
     "name": "stdout",
     "output_type": "stream",
     "text": [
      "Available GPU count:1\n",
      "Project:  copd\n",
      "aug mode: copd\n",
      "batchsize:  32\n",
      "/usr/local/lib/python3.6/dist-packages/albumentations/augmentations/transforms.py:1746: FutureWarning: This class has been deprecated. Please use RandomBrightnessContrast\n",
      "  FutureWarning,\n",
      "/usr/local/lib/python3.6/dist-packages/albumentations/augmentations/transforms.py:1772: FutureWarning: This class has been deprecated. Please use RandomBrightnessContrast\n",
      "  FutureWarning,\n",
      "/usr/local/lib/python3.6/dist-packages/torch/nn/functional.py:718: UserWarning: Named tensors and all their associated APIs are an experimental feature and subject to change. Please do not use them for anything important until they are released as stable. (Triggered internally at  /pytorch/c10/core/TensorImpl.h:1156.)\n",
      "  return torch.max_pool2d(input, kernel_size, stride, padding, dilation, ceil_mode)\n",
      "0:\t[12s / 12s],\t\ttrain_loss: 1.9256,\tval_loss: 1.4394\n",
      "1:\t[12s / 24s],\t\ttrain_loss: 1.3327,\tval_loss: 1.4112\n",
      "2:\t[11s / 35s],\t\ttrain_loss: 1.2710,\tval_loss: 1.4606\n",
      "3:\t[11s / 47s],\t\ttrain_loss: 1.2075,\tval_loss: 1.4622\n",
      "4:\t[11s / 59s],\t\ttrain_loss: 1.1536,\tval_loss: 1.6846\n",
      "5:\t[11s / 1m:11s],\t\ttrain_loss: 1.0770,\tval_loss: 1.5271\n",
      "6:\t[11s / 1m:23s],\t\ttrain_loss: 1.0368,\tval_loss: 1.6948\n",
      "7:\t[11s / 1m:35s],\t\ttrain_loss: 0.9689,\tval_loss: 1.6282\n",
      "8:\t[12s / 1m:47s],\t\ttrain_loss: 0.8666,\tval_loss: 1.7208\n",
      "9:\t[11s / 1m:59s],\t\ttrain_loss: 0.8056,\tval_loss: 1.8016\n",
      "10:\t[11s / 2m:11s],\t\ttrain_loss: 0.7229,\tval_loss: 1.8402\n",
      "11:\t[12s / 2m:23s],\t\ttrain_loss: 0.6545,\tval_loss: 1.7990\n",
      "/usr/local/lib/python3.6/dist-packages/numba/np/ufunc/parallel.py:365: NumbaWarning: The TBB threading layer requires TBB version 2019.5 or later i.e., TBB_INTERFACE_VERSION >= 11005. Found TBB_INTERFACE_VERSION = 9107. The TBB threading layer is disabled.\n",
      "  warnings.warn(problem)\n",
      "==============================\n",
      "C-index :  0.7564\n",
      "1year-AUC :  0.8023\n",
      "3year-AUC :  0.7984\n",
      "5year-AUC :  0.798\n"
     ]
    }
   ],
   "source": [
    "!python main.py --path_to_images /home/COPD/DATA/COPD_PNG \\\n",
    "                --path_to_csv /home/COPD/DATA/COPD_train_new.csv \\\n",
    "                --run_path /home/COPD/COPD/results/srm-results \\\n",
    "                --project copd \\\n",
    "                --augment copd \\\n",
    "                --pretrained_path pretrained/5_jama_res50.pth \\\n",
    "                --arch resnet50 \\\n",
    "                --surv_module LogisticHazard"
   ]
  },
  {
   "cell_type": "code",
   "execution_count": 2,
   "metadata": {},
   "outputs": [
    {
     "name": "stdout",
     "output_type": "stream",
     "text": [
      "/home/cxr_pneumonia_pred/CXR_surv\n"
     ]
    }
   ],
   "source": [
    "!pwd"
   ]
  },
  {
   "cell_type": "code",
   "execution_count": 29,
   "metadata": {},
   "outputs": [
    {
     "name": "stdout",
     "output_type": "stream",
     "text": [
      "Available GPU count:1\n",
      "Project:  cpmp\n",
      "aug mode: cpmp\n",
      "batchsize:  32\n",
      "/usr/local/lib/python3.6/dist-packages/albumentations/augmentations/transforms.py:1746: FutureWarning: This class has been deprecated. Please use RandomBrightnessContrast\n",
      "  FutureWarning,\n",
      "/usr/local/lib/python3.6/dist-packages/albumentations/augmentations/transforms.py:1772: FutureWarning: This class has been deprecated. Please use RandomBrightnessContrast\n",
      "  FutureWarning,\n",
      "0:\t[32s / 32s],\t\ttrain_loss: 1.3356,\tval_loss: 0.8470\n",
      "1:\t[30s / 1m:2s],\t\ttrain_loss: 0.8632,\tval_loss: 0.8041\n",
      "2:\t[29s / 1m:32s],\t\ttrain_loss: 0.8402,\tval_loss: 0.8070\n",
      "3:\t[29s / 2m:2s],\t\ttrain_loss: 0.8123,\tval_loss: 0.8080\n",
      "/usr/local/lib/python3.6/dist-packages/numba/np/ufunc/parallel.py:365: NumbaWarning: The TBB threading layer requires TBB version 2019.5 or later i.e., TBB_INTERFACE_VERSION >= 11005. Found TBB_INTERFACE_VERSION = 9107. The TBB threading layer is disabled.\n",
      "  warnings.warn(problem)\n",
      "==============================\n",
      "C-index :  0.7562\n",
      "0.8549\n",
      "0.8349\n",
      "0.8292\n"
     ]
    }
   ],
   "source": [
    "!python main.py --path_to_images /home/cxr_pneumonia_pred/data/CPMP_png_512 \\\n",
    "                --path_to_csv /home/cxr_pneumonia_pred/data/cpmp_info_clean.csv \\\n",
    "                --project cpmp \\\n",
    "                --filename_column filename \\\n",
    "                --time_column fu_dur \\\n",
    "                --event_column death \\\n",
    "                --augment cpmp \\\n",
    "                --pretrained_path pretrained/5_jama_den121.pth \\\n",
    "                --arch densenet121 \\\n",
    "                --surv_module LogisticHazard \\\n",
    "                --patience 2"
   ]
  },
  {
   "cell_type": "code",
   "execution_count": 31,
   "metadata": {},
   "outputs": [
    {
     "name": "stdout",
     "output_type": "stream",
     "text": [
      "Available GPU count:1\n",
      "Project:  cpmp\n",
      "aug mode: cpmp\n",
      "batchsize:  32\n",
      "/usr/local/lib/python3.6/dist-packages/numba/np/ufunc/parallel.py:365: NumbaWarning: The TBB threading layer requires TBB version 2019.5 or later i.e., TBB_INTERFACE_VERSION >= 11005. Found TBB_INTERFACE_VERSION = 9107. The TBB threading layer is disabled.\n",
      "  warnings.warn(problem)\n",
      "==============================\n",
      "C-index :  0.7041\n",
      "0.7436\n",
      "0.7539\n",
      "0.7646\n"
     ]
    }
   ],
   "source": [
    "!python infer.py --path_to_images /home/cxr_pneumonia_pred/data/CPMP_png_512 \\\n",
    "                --path_to_csv /home/cxr_pneumonia_pred/data/ext_cpmp_info_clean.csv \\\n",
    "                --path_to_train_images /home/cxr_pneumonia_pred/data/CPMP_png_512 \\\n",
    "                --path_to_train_csv /home/cxr_pneumonia_pred/data/cpmp_info_clean.csv \\\n",
    "                --project cpmp \\\n",
    "                --filename_column filename \\\n",
    "                --time_column fu_dur \\\n",
    "                --event_column death \\\n",
    "                --augment cpmp \\\n",
    "                --model_path results/2021-08-17-19-45-36/best_model.pt \\\n",
    "                --arch densenet121 \\\n",
    "                --surv_module LogisticHazard "
   ]
  },
  {
   "cell_type": "code",
   "execution_count": null,
   "metadata": {},
   "outputs": [],
   "source": []
  }
 ],
 "metadata": {
  "kernelspec": {
   "display_name": "Python 3",
   "language": "python",
   "name": "python3"
  },
  "language_info": {
   "codemirror_mode": {
    "name": "ipython",
    "version": 3
   },
   "file_extension": ".py",
   "mimetype": "text/x-python",
   "name": "python",
   "nbconvert_exporter": "python",
   "pygments_lexer": "ipython3",
   "version": "3.6.9"
  }
 },
 "nbformat": 4,
 "nbformat_minor": 4
}
